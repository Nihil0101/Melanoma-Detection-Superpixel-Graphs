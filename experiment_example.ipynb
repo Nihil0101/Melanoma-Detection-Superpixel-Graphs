{
  "nbformat": 4,
  "nbformat_minor": 0,
  "metadata": {
    "colab": {
      "provenance": []
    },
    "kernelspec": {
      "name": "python3",
      "display_name": "Python 3"
    },
    "language_info": {
      "name": "python"
    }
  },
  "cells": [
    {
      "cell_type": "code",
      "execution_count": null,
      "metadata": {
        "id": "vkluMTArCFAi"
      },
      "outputs": [],
      "source": [
        "import os\n",
        "import math\n",
        "import pandas as pd\n",
        "from sklearn.model_selection import train_test_split\n",
        "from sklearn.ensemble import RandomForestClassifier\n",
        "from sklearn.datasets import make_classification\n",
        "from sklearn.metrics import accuracy_score, confusion_matrix, classification_report, f1_score\n",
        "import matplotlib.pyplot as plt\n",
        "import seaborn as sns\n",
        "from sklearn.model_selection import cross_val_score\n",
        "from sklearn.preprocessing import StandardScaler\n",
        "import numpy as np\n",
        "from google.colab import drive\n",
        "drive.mount('/content/drive')"
      ]
    },
    {
      "cell_type": "code",
      "source": [
        "# Specify the path to your CSV file\n",
        "file_path = 'results.csv'\n",
        "# Read the CSV file into a DataFrame\n",
        "df = pd.read_csv(file_path)\n",
        "# fill nans\n",
        "df.fillna(0, inplace=True)\n",
        "#remove funny data\n",
        "bad_names = ['/content/gdrive/MyDrive/Duomenys_updated/Duomenys//1/SS0000149/1.jpg',\n",
        "             '/content/gdrive/MyDrive/Duomenys_updated/Duomenys//1/SS0001146/1.jpg',\n",
        "             '/content/gdrive/MyDrive/Duomenys_updated/Duomenys//2/SS0000364/1.jpg',\n",
        "             '/content/gdrive/MyDrive/Duomenys_updated/Duomenys//2/SS0000368/1.jpg',\n",
        "             '/content/gdrive/MyDrive/Duomenys_updated/Duomenys//5/SS0001275/1.jpg']\n",
        "\n",
        "df = df[~df['name'].isin(bad_names)]\n",
        "# Create a mapping dictionary\n",
        "num_to_word = {1: 'Naevus', 2: 'Seb K', 5: 'Melanoma', 7: 'Dermafibrioma', 8: 'Lentigo maligna'}\n",
        "\n",
        "# Use the dictionary to replace the numbers with words\n",
        "df.loc[:, 'Y1'] = df['Y1'].replace(num_to_word)\n",
        "\n",
        "features_to_drop = ['name', 'Y1', 'Y2']  # replace with your list of features\n",
        "X = df.drop(features_to_drop, axis=1)\n",
        "y = df['Y1']  # target variable\n",
        "\n",
        "X_train, X_test, y_train, y_test = train_test_split(X, y, test_size=0.2, random_state=42)\n",
        "# Visualize class distribution in training set\n",
        "plt.figure(figsize=(10, 6))\n",
        "plt.hist(y_train, bins=30, alpha=0.5, color='g', label='Train')\n",
        "plt.hist(y_test, bins=30, alpha=0.5, color='r', label='Test')\n",
        "plt.title('Class distribution in Train/Test split')\n",
        "plt.xlabel('Class')\n",
        "plt.ylabel('Frequency')\n",
        "plt.legend(loc='upper right')\n",
        "plt.show()\n",
        "clf = RandomForestClassifier(random_state=0)\n",
        "clf.fit(X_train, y_train)\n",
        "# Make predictions for the test set\n",
        "y_pred_test = clf.predict(X_test)\n",
        "\n",
        "# View accuracy score\n",
        "print(\"Accuracy Score: \", accuracy_score(y_test, y_pred_test))\n",
        "print(\"F1 Score (micro): \", f1_score(y_test, y_pred_test, average='micro'))\n",
        "print(\"F1 Score (macro): \", f1_score(y_test, y_pred_test, average='macro'))\n",
        "print(\"F1 Score (weighted): \", f1_score(y_test, y_pred_test, average='weighted'))\n",
        "conf_mat = confusion_matrix(y_test, y_pred_test)\n",
        "plt.figure(figsize = (10,7))\n",
        "sns.heatmap(conf_mat, annot=True, cmap='Blues')\n",
        "plt.xlabel('Predicted')\n",
        "plt.ylabel('Actual')\n",
        "plt.show()"
      ],
      "metadata": {
        "id": "BM3je9D_CjFv"
      },
      "execution_count": null,
      "outputs": []
    },
    {
      "cell_type": "code",
      "source": [
        "df2 = pd.read_csv(file_path)\n",
        "# fill nans\n",
        "df2.fillna(0, inplace=True)\n",
        "df2 = df2[~df2['name'].isin(bad_names)]\n",
        "X = df2.drop(features_to_drop, axis=1)\n",
        "y = df2['Y2']  # target variable\n",
        "\n",
        "X_train, X_test, y_train, y_test = train_test_split(X, y, test_size=0.2, random_state=42)\n",
        "\n",
        "# Visualize class distribution in training set\n",
        "plt.figure(figsize=(10, 6))\n",
        "plt.hist(y_train, bins=30, alpha=0.5, color='g', label='Train')\n",
        "plt.hist(y_test, bins=30, alpha=0.5, color='r', label='Test')\n",
        "plt.title('Class distribution in Train/Test split')\n",
        "plt.xlabel('Class')\n",
        "plt.ylabel('Frequency')\n",
        "plt.legend(loc='upper right')\n",
        "plt.show()\n",
        "clf = RandomForestClassifier()\n",
        "clf.fit(X_train, y_train)\n",
        "# Make predictions for the test set\n",
        "y_pred_test = clf.predict(X_test)\n",
        "\n",
        "# View accuracy score\n",
        "# View accuracy score\n",
        "print(\"Accuracy Score: \", accuracy_score(y_test, y_pred_test))\n",
        "print(\"F1 Score (binary): \", f1_score(y_test, y_pred_test, average='binary'))\n",
        "print(\"F1 Score (micro): \", f1_score(y_test, y_pred_test, average='micro'))\n",
        "print(\"F1 Score (macro): \", f1_score(y_test, y_pred_test, average='macro'))\n",
        "print(\"F1 Score (weighted): \", f1_score(y_test, y_pred_test, average='weighted'))\n",
        "conf_mat = confusion_matrix(y_test, y_pred_test)\n",
        "plt.figure(figsize = (10,7))\n",
        "sns.heatmap(conf_mat, annot=True, cmap='Blues')\n",
        "plt.xlabel('Predicted')\n",
        "plt.ylabel('Actual')\n",
        "plt.show()"
      ],
      "metadata": {
        "id": "os828I-KC9Jd"
      },
      "execution_count": null,
      "outputs": []
    }
  ]
}